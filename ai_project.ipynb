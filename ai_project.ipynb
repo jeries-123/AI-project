{
  "cells": [
    {
      "cell_type": "markdown",
      "metadata": {
        "id": "view-in-github",
        "colab_type": "text"
      },
      "source": [
        "<a href=\"https://colab.research.google.com/github/jeries-123/AI-project/blob/main/ai_project.ipynb\" target=\"_parent\"><img src=\"https://colab.research.google.com/assets/colab-badge.svg\" alt=\"Open In Colab\"/></a>"
      ]
    },
    {
      "cell_type": "markdown",
      "metadata": {
        "id": "Mv9P9u9v6E-E"
      },
      "source": [
        "**Project: Malignant and Benign Cancer Detection**\n",
        "\n",
        "You have to implement binary classification algorithm. The tasks are given below. Everything must be implemented from scracth using only Python basics (such as loops, functions, and so on) and numpy arrays.\n",
        "\n",
        "It is forbidden to use any ML libraries.\n"
      ]
    },
    {
      "cell_type": "markdown",
      "metadata": {
        "id": "dfgSh9Dd6E-R"
      },
      "source": [
        "**Tasks:**\n",
        "\n",
        "* Implement polynomial features [10p]\n",
        "* Implement minmax normalisation [10p]\n",
        "* Implement logistic regression loss function and gradient descent algorithm [10p]\n",
        "* Plot learning and test curve [10p]\n",
        "* Generate test prediction (test dataset) [10p]\n",
        "* Fill the confusion matrix (test dataset) [10p]\n",
        "* Compute F1 score, precision, recall and accuracy using confusion matrix (test dataset) [10p]\n",
        "* Try various learning rate and compute F1 score of each learning rate (test dataset) [10p]\n",
        "* Learning rates: (0.0001, 0.0005, 0.0007, 0.001, 0.005, 0.001, 0.01, 0.05, 0.09, 0.1, 0.4, 0.7) [10p]\n",
        "* Generate the lists for each learning rate and its associated F1 score and plot (test dataset) [10p]"
      ]
    },
    {
      "cell_type": "code",
      "execution_count": null,
      "metadata": {
        "id": "xFmCrvvB6E-U"
      },
      "outputs": [],
      "source": [
        "import numpy as np\n",
        "import pandas as pd\n",
        "import matplotlib.pyplot as plt\n",
        "import seaborn as sns"
      ]
    },
    {
      "cell_type": "code",
      "execution_count": null,
      "metadata": {
        "colab": {
          "base_uri": "https://localhost:8080/"
        },
        "id": "j3pRppwP6E-X",
        "outputId": "08905fcc-ecc0-4dcc-d519-bd216f05033e"
      },
      "outputs": [
        {
          "output_type": "stream",
          "name": "stdout",
          "text": [
            "   diagnosis  radius_mean  texture_mean  perimeter_mean  area_mean  \\\n",
            "0          1        17.99         10.38          122.80     1001.0   \n",
            "1          1        20.57         17.77          132.90     1326.0   \n",
            "2          1        19.69         21.25          130.00     1203.0   \n",
            "3          1        11.42         20.38           77.58      386.1   \n",
            "4          1        20.29         14.34          135.10     1297.0   \n",
            "\n",
            "   smoothness_mean  compactness_mean  concavity_mean  concave points_mean  \\\n",
            "0          0.11840           0.27760          0.3001              0.14710   \n",
            "1          0.08474           0.07864          0.0869              0.07017   \n",
            "2          0.10960           0.15990          0.1974              0.12790   \n",
            "3          0.14250           0.28390          0.2414              0.10520   \n",
            "4          0.10030           0.13280          0.1980              0.10430   \n",
            "\n",
            "   symmetry_mean  ...  radius_worst  texture_worst  perimeter_worst  \\\n",
            "0         0.2419  ...         25.38          17.33           184.60   \n",
            "1         0.1812  ...         24.99          23.41           158.80   \n",
            "2         0.2069  ...         23.57          25.53           152.50   \n",
            "3         0.2597  ...         14.91          26.50            98.87   \n",
            "4         0.1809  ...         22.54          16.67           152.20   \n",
            "\n",
            "   area_worst  smoothness_worst  compactness_worst  concavity_worst  \\\n",
            "0      2019.0            0.1622             0.6656           0.7119   \n",
            "1      1956.0            0.1238             0.1866           0.2416   \n",
            "2      1709.0            0.1444             0.4245           0.4504   \n",
            "3       567.7            0.2098             0.8663           0.6869   \n",
            "4      1575.0            0.1374             0.2050           0.4000   \n",
            "\n",
            "   concave points_worst  symmetry_worst  fractal_dimension_worst  \n",
            "0                0.2654          0.4601                  0.11890  \n",
            "1                0.1860          0.2750                  0.08902  \n",
            "2                0.2430          0.3613                  0.08758  \n",
            "3                0.2575          0.6638                  0.17300  \n",
            "4                0.1625          0.2364                  0.07678  \n",
            "\n",
            "[5 rows x 31 columns]\n",
            "\n",
            "['diagnosis', 'radius_mean', 'texture_mean', 'perimeter_mean', 'area_mean', 'smoothness_mean', 'compactness_mean', 'concavity_mean', 'concave points_mean', 'symmetry_mean', 'fractal_dimension_mean', 'radius_se', 'texture_se', 'perimeter_se', 'area_se', 'smoothness_se', 'compactness_se', 'concavity_se', 'concave points_se', 'symmetry_se', 'fractal_dimension_se', 'radius_worst', 'texture_worst', 'perimeter_worst', 'area_worst', 'smoothness_worst', 'compactness_worst', 'concavity_worst', 'concave points_worst', 'symmetry_worst', 'fractal_dimension_worst']\n",
            "[1. 1. 1. 1. 1.]\n",
            "input dim:(569, 30)\n",
            "output dim:(569, 1)\n"
          ]
        }
      ],
      "source": [
        "# read the data file\n",
        "df = pd.read_csv('cancer_data.csv')\n",
        "df.head() # diplay first 5 rows\n",
        "\n",
        "# remove some of the columns because we don't need\n",
        "df.drop('Unnamed: 32', inplace = True, axis = 1)\n",
        "df.drop('id', inplace=True, axis=1)\n",
        "\n",
        "# target output is a string, replace them to be integer values\n",
        "df['diagnosis'] = df['diagnosis'].map({'M':1, 'B':0})\n",
        "print(df.head())\n",
        "\n",
        "print()\n",
        "\n",
        "# display the columns' title\n",
        "columns_title=list(df.columns)\n",
        "print(columns_title)\n",
        "\n",
        "# convert to numpy\n",
        "data=df.to_numpy()\n",
        "\n",
        "# split inputs and output data\n",
        "data_in=data[:,1:] #input\n",
        "data_out=data[:,0] #output (m,) vector\n",
        "\n",
        "# print first 5 rows of outputs\n",
        "print(data_out[:5])\n",
        "\n",
        "# reshape data_out to match with the predicted output\n",
        "data_out = np.reshape(data_out,(-1,1)) # dimension becomes (m,1)\n",
        "\n",
        "# delete unnecesary variables to save some memory in Colab\n",
        "del data, df\n",
        "\n",
        "# display the shape of inputs and outputs\n",
        "print(f\"input dim:{data_in.shape}\")\n",
        "print(f\"output dim:{data_out.shape}\")"
      ]
    },
    {
      "cell_type": "code",
      "execution_count": null,
      "metadata": {
        "colab": {
          "base_uri": "https://localhost:8080/"
        },
        "id": "5iRnv6d46E-a",
        "outputId": "e6fbe2ed-4872-494a-d232-71423742be89"
      },
      "outputs": [
        {
          "output_type": "stream",
          "name": "stdout",
          "text": [
            "number of train data: (398, 30)\n",
            "number of train data: (398, 1)\n",
            "number of test data: (171, 30)\n"
          ]
        }
      ],
      "source": [
        "# split data into training and test sets\n",
        "\n",
        "ratio = 0.7 # percentage of training dataset\n",
        "\n",
        "len_tr = int(ratio*len(data_in)) # data_in.shape[0]\n",
        "\n",
        "# training dataset\n",
        "tr_data_in = data_in[:len_tr]\n",
        "tr_data_out = data_out[:len_tr]\n",
        "\n",
        "# test dataset\n",
        "test_data_in = data_in[len_tr:]\n",
        "test_data_out = data_out[len_tr:]\n",
        "\n",
        "# display the shape of inputs and outputs\n",
        "print(f\"number of train data: {tr_data_in.shape}\")\n",
        "print(f\"number of train data: {tr_data_out.shape}\")\n",
        "print(f\"number of test data: {test_data_in.shape}\")"
      ]
    },
    {
      "cell_type": "code",
      "execution_count": null,
      "metadata": {
        "colab": {
          "base_uri": "https://localhost:8080/"
        },
        "id": "czrulx4R6E-b",
        "outputId": "7bf82d52-823d-4a03-a90f-34af67356632"
      },
      "outputs": [
        {
          "output_type": "stream",
          "name": "stdout",
          "text": [
            "Number of train data : (398, 60)\n",
            "Number of test data : (171, 60)\n"
          ]
        }
      ],
      "source": [
        "#task 1\n",
        "\n",
        "\n",
        "\n",
        "def add_polyfeatures(data, degree):\n",
        "    m, n = data.shape\n",
        "\n",
        "\n",
        "    new_features = []\n",
        "\n",
        "\n",
        "    for i in range(n):\n",
        "\n",
        "        for d in range(2, degree + 1):\n",
        "            new_feature = data[:, i] ** d\n",
        "            new_features.append(new_feature)\n",
        "\n",
        "\n",
        "    data_polyfeatures = np.column_stack([data] + new_features)\n",
        "    return data_polyfeatures\n",
        "\n",
        "poly_degree = 2\n",
        "\n",
        "tr_data = add_polyfeatures(tr_data_in, poly_degree)\n",
        "test_data = add_polyfeatures(test_data_in, poly_degree)\n",
        "\n",
        "\n",
        "print(f\"Number of train data : {tr_data.shape}\")\n",
        "print(f\"Number of test data : {test_data.shape}\")"
      ]
    },
    {
      "cell_type": "code",
      "execution_count": null,
      "metadata": {
        "colab": {
          "base_uri": "https://localhost:8080/"
        },
        "id": "Quj2h3Le6E-c",
        "outputId": "f56ff08d-f998-4e57-fff0-142dd26a88b5"
      },
      "outputs": [
        {
          "output_type": "stream",
          "name": "stdout",
          "text": [
            "First 5 rows with polynomial features:\n",
            "[[0.52103744 0.0226581  0.54598853 0.3640416  0.68000973 0.7920373\n",
            "  0.70313964 0.73111332 0.66844634 0.60551811 0.35614702 0.12046941\n",
            "  0.3690336  0.28198282 0.15929565 0.35139844 0.13568182 0.30062512\n",
            "  0.31164518 0.18304244 0.69246032 0.14152452 0.75012578 0.56480227\n",
            "  0.60113584 0.61929156 0.56861022 0.91202749 0.59846245 0.41886396\n",
            "  0.37077387 0.00929172 0.39156326 0.157671   0.59369992 0.64482493\n",
            "  0.49440536 0.53452669 0.56977623 0.52857541 0.14397433 0.02906544\n",
            "  0.15169055 0.08500743 0.03934495 0.13093837 0.01840956 0.09037546\n",
            "  0.13606841 0.0422117  0.5617597  0.06747473 0.6302494  0.3441715\n",
            "  0.47754049 0.39537905 0.32331759 0.83179415 0.44984999 0.27750894]\n",
            " [0.64314449 0.27257355 0.61578329 0.50201656 0.27047086 0.18176799\n",
            "  0.20360825 0.34875746 0.34436733 0.14132266 0.15643672 0.08258929\n",
            "  0.12444047 0.1289653  0.11938675 0.08132304 0.0469697  0.25383595\n",
            "  0.08453875 0.0911101  0.67698413 0.30357143 0.60590307 0.54539855\n",
            "  0.34755332 0.15456336 0.19297125 0.63917526 0.23358959 0.22287813\n",
            "  0.50495209 0.1528949  0.46839188 0.2791725  0.19220517 0.04884286\n",
            "  0.04145632 0.12163176 0.24384841 0.10223362 0.03433274 0.01722736\n",
            "  0.02274047 0.01967973 0.02522015 0.00905795 0.00220615 0.06443269\n",
            "  0.021197   0.01312279 0.54277441 0.1747163  0.45318716 0.32284844\n",
            "  0.23066505 0.0304615  0.0372379  0.40854501 0.12287445 0.12229688]\n",
            " [0.60149557 0.3902604  0.59574321 0.44979834 0.57294075 0.4310165\n",
            "  0.46251172 0.63568588 0.48158035 0.21124684 0.22962158 0.09430251\n",
            "  0.18037035 0.16745117 0.15083115 0.2839547  0.09676768 0.38984656\n",
            "  0.20569032 0.12700551 0.62063492 0.36007463 0.5706859  0.46932364\n",
            "  0.48358978 0.38537513 0.35974441 0.83505155 0.40370589 0.21343303\n",
            "  0.45716818 0.24663119 0.44571102 0.22919715 0.47588838 0.21183354\n",
            "  0.21391709 0.40409654 0.37042881 0.15757524 0.06594359 0.02062351\n",
            "  0.04237755 0.03182222 0.03611075 0.08728308 0.00936398 0.15198034\n",
            "  0.07196982 0.02258634 0.47613249 0.21963616 0.41399262 0.24576823\n",
            "  0.35486077 0.1604259  0.12941604 0.69731109 0.25483227 0.11594355]\n",
            " [0.2100904  0.36083869 0.23350149 0.102993   0.97323275 0.81136127\n",
            "  0.5656045  0.52286282 0.76348105 1.         0.13909107 0.17587518\n",
            "  0.12665504 0.03858619 0.25145324 0.54321507 0.14295455 0.35366547\n",
            "  0.72814769 0.28720479 0.27698413 0.38592751 0.27089273 0.1178083\n",
            "  0.9154725  0.8140117  0.54864217 0.88487973 1.         0.77371114\n",
            "  0.11016709 0.22162964 0.12200299 0.02064147 0.9628997  0.67457\n",
            "  0.31990845 0.27338553 0.68308597 1.         0.02829358 0.05083923\n",
            "  0.02340698 0.00249537 0.08286327 0.30320155 0.020436   0.12507926\n",
            "  0.56613583 0.09440675 0.15407495 0.2414868  0.14457426 0.02452114\n",
            "  0.87558398 0.67022889 0.30100823 0.78301213 1.         0.67203888]\n",
            " [0.62989256 0.15657761 0.63098611 0.48970495 0.4597883  0.34789277\n",
            "  0.46391753 0.51838966 0.34276562 0.1868155  0.2338222  0.09306489\n",
            "  0.2205626  0.16824211 0.33235884 0.16791841 0.14363636 0.3570752\n",
            "  0.13617943 0.14579965 0.5797619  0.1239339  0.56900889 0.42805224\n",
            "  0.4373638  0.17241513 0.31948882 0.55841924 0.15750049 0.14259478\n",
            "  0.48952153 0.07686654 0.48593183 0.26695174 0.36126699 0.14513493\n",
            "  0.21521947 0.26872784 0.24246981 0.13788099 0.06805875 0.02025348\n",
            "  0.06009523 0.03210199 0.13360941 0.03276832 0.0206314  0.1275027\n",
            "  0.03990093 0.02850927 0.43023247 0.05775932 0.41216578 0.20829856\n",
            "  0.31051832 0.03690287 0.1020731  0.31183205 0.07543819 0.07159611]]\n"
          ]
        }
      ],
      "source": [
        "\n",
        "# Task 2: Min-Max Normalization\n",
        "\n",
        "def min_max(data):\n",
        "\n",
        "    min_vals = np.min(data, axis=0)\n",
        "    max_vals = np.max(data, axis=0)\n",
        "\n",
        "    normalized_data = (data - min_vals) / (max_vals - min_vals)\n",
        "\n",
        "    return normalized_data\n",
        "\n",
        "\n",
        "tr_data_poly= min_max(tr_data)\n",
        "test_data_poly = min_max(test_data)\n",
        "\n",
        "print(\"First 5 rows with polynomial features:\")\n",
        "print(tr_data_poly[:5, :])\n"
      ]
    },
    {
      "cell_type": "code",
      "execution_count": null,
      "metadata": {
        "id": "xjyNbVYG6E-c"
      },
      "outputs": [],
      "source": [
        "#task 3\n",
        "\n",
        "def sigmoid(z):\n",
        "    return 1 / (1 + np.exp(-z))\n",
        "\n",
        "def loss(y_pred, y_true):\n",
        "    return -np.mean(y_true * np.log(y_pred) + (1 - y_true) * np.log(1 - y_pred))\n",
        "\n",
        "def gradient_d(X, y, rate, num):\n",
        "    m, n = X.shape\n",
        "    theta0 = np.zeros(n)\n",
        "    theta1=0\n",
        "\n",
        "    for iteration in range(num):\n",
        "\n",
        "         y_pred = sigmoid(np.dot(X, theta0))\n",
        "         gradient0 = np.sum(np.dot(X.T, (y_pred - y)))\n",
        "         gradient1 = np.sum (y_pred - y)\n",
        "         theta0 -= rate * gradient0\n",
        "         theta1 -= rate * gradient1\n",
        "\n",
        "        los = loss(y_pred, y)\n",
        "        print(f\"Iteration {iteration + 1}: Loss = {los}\")\n",
        "\n",
        "    return theta0\n",
        "\n"
      ]
    },
    {
      "cell_type": "code",
      "source": [
        "#task 4\n",
        "# Plot the learning and test curves\n",
        "plt.figure(figsize=(12, 6))\n",
        "plt.plot(range(max_epoch), tr_data, label=\"Training Loss\")\n",
        "plt.plot(range(max_epoch), test_losses, label=\"Test Loss\")\n",
        "plt.xlabel(\"Epoch\")\n",
        "plt.ylabel(\"Loss\")\n",
        "plt.title(\"Learning Curve and Test Curve\")\n",
        "plt.legend()\n",
        "plt.grid(True)\n",
        "plt.show()"
      ],
      "metadata": {
        "id": "zlcM0sQ66wuj",
        "colab": {
          "base_uri": "https://localhost:8080/",
          "height": 263
        },
        "outputId": "a8dfba56-35f3-441c-e128-179417efbd13"
      },
      "execution_count": null,
      "outputs": [
        {
          "output_type": "error",
          "ename": "NameError",
          "evalue": "ignored",
          "traceback": [
            "\u001b[0;31m---------------------------------------------------------------------------\u001b[0m",
            "\u001b[0;31mNameError\u001b[0m                                 Traceback (most recent call last)",
            "\u001b[0;32m<ipython-input-10-6a1cb969c4a1>\u001b[0m in \u001b[0;36m<cell line: 4>\u001b[0;34m()\u001b[0m\n\u001b[1;32m      2\u001b[0m \u001b[0;31m# Plot the learning and test curves\u001b[0m\u001b[0;34m\u001b[0m\u001b[0;34m\u001b[0m\u001b[0m\n\u001b[1;32m      3\u001b[0m \u001b[0mplt\u001b[0m\u001b[0;34m.\u001b[0m\u001b[0mfigure\u001b[0m\u001b[0;34m(\u001b[0m\u001b[0mfigsize\u001b[0m\u001b[0;34m=\u001b[0m\u001b[0;34m(\u001b[0m\u001b[0;36m12\u001b[0m\u001b[0;34m,\u001b[0m \u001b[0;36m6\u001b[0m\u001b[0;34m)\u001b[0m\u001b[0;34m)\u001b[0m\u001b[0;34m\u001b[0m\u001b[0;34m\u001b[0m\u001b[0m\n\u001b[0;32m----> 4\u001b[0;31m \u001b[0mplt\u001b[0m\u001b[0;34m.\u001b[0m\u001b[0mplot\u001b[0m\u001b[0;34m(\u001b[0m\u001b[0mrange\u001b[0m\u001b[0;34m(\u001b[0m\u001b[0mmax_epoch\u001b[0m\u001b[0;34m)\u001b[0m\u001b[0;34m,\u001b[0m \u001b[0mtrain_losses\u001b[0m\u001b[0;34m,\u001b[0m \u001b[0mlabel\u001b[0m\u001b[0;34m=\u001b[0m\u001b[0;34m\"Training Loss\"\u001b[0m\u001b[0;34m)\u001b[0m\u001b[0;34m\u001b[0m\u001b[0;34m\u001b[0m\u001b[0m\n\u001b[0m\u001b[1;32m      5\u001b[0m \u001b[0mplt\u001b[0m\u001b[0;34m.\u001b[0m\u001b[0mplot\u001b[0m\u001b[0;34m(\u001b[0m\u001b[0mrange\u001b[0m\u001b[0;34m(\u001b[0m\u001b[0mmax_epoch\u001b[0m\u001b[0;34m)\u001b[0m\u001b[0;34m,\u001b[0m \u001b[0mtest_losses\u001b[0m\u001b[0;34m,\u001b[0m \u001b[0mlabel\u001b[0m\u001b[0;34m=\u001b[0m\u001b[0;34m\"Test Loss\"\u001b[0m\u001b[0;34m)\u001b[0m\u001b[0;34m\u001b[0m\u001b[0;34m\u001b[0m\u001b[0m\n\u001b[1;32m      6\u001b[0m \u001b[0mplt\u001b[0m\u001b[0;34m.\u001b[0m\u001b[0mxlabel\u001b[0m\u001b[0;34m(\u001b[0m\u001b[0;34m\"Epoch\"\u001b[0m\u001b[0;34m)\u001b[0m\u001b[0;34m\u001b[0m\u001b[0;34m\u001b[0m\u001b[0m\n",
            "\u001b[0;31mNameError\u001b[0m: name 'max_epoch' is not defined"
          ]
        },
        {
          "output_type": "display_data",
          "data": {
            "text/plain": [
              "<Figure size 1200x600 with 0 Axes>"
            ]
          },
          "metadata": {}
        }
      ]
    },
    {
      "cell_type": "code",
      "execution_count": null,
      "metadata": {
        "id": "UCPBGF816E-d"
      },
      "outputs": [],
      "source": [
        "# helper function to plot confusion matrix\n",
        "\n",
        "def plot_conf_mat(conf_mat):\n",
        "\n",
        "    class_label=[\"P\",\"N\"]\n",
        "\n",
        "    plt.subplots(figsize=(8, 8))\n",
        "    sns.set(font_scale=1.5) # Adjust the font to fit\n",
        "    sns.heatmap(conf_mat,\n",
        "                annot=True,\n",
        "                cbar=False,\n",
        "                xticklabels=class_label,\n",
        "                yticklabels=class_label,\n",
        "                cmap='Blues')\n",
        "\n",
        "    plt.ylabel('Actual')\n",
        "    plt.xlabel('Predicted')\n",
        "    plt.show()"
      ]
    },
    {
      "cell_type": "code",
      "execution_count": null,
      "metadata": {
        "id": "ARinzTEC6E-d",
        "outputId": "7b14b144-32e0-4259-8ab5-89c6156f428d"
      },
      "outputs": [
        {
          "data": {
            "image/png": "[encoded data removed]",
            "text/plain": [
              "<Figure size 800x800 with 1 Axes>"
            ]
          },
          "metadata": {},
          "output_type": "display_data"
        }
      ],
      "source": [
        "conf_mat = np.zeros((2,2),dtype=int)\n",
        "# you need to write algorithm here to update conf_mat\n",
        "# you have to use test dataset\n",
        "\n",
        "# plot the confusion matrix\n",
        "plot_conf_mat(conf_mat)"
      ]
    },
    {
      "cell_type": "code",
      "execution_count": null,
      "metadata": {
        "id": "ySUooNne6E-e",
        "outputId": "db3ad1e0-db05-4c4e-8093-63fed3713b5f"
      },
      "outputs": [
        {
          "data": {
            "image/png": "[encoded data removed]",
            "text/plain": [
              "<Figure size 640x480 with 1 Axes>"
            ]
          },
          "metadata": {},
          "output_type": "display_data"
        }
      ],
      "source": [
        "# test each learning rate and obtained F1 score for each one,\n",
        "# do experiments one by one and fill the F1 scores manually\n",
        "# use test dataset\n",
        "\n",
        "LR = [0.0001, 0.0005, 0.0007, 0.001, 0.005, 0.001, 0.01, 0.05, 0.09, 0.1, 0.4, 0.7]\n",
        "# you need to update F1_score_list\n",
        "F1_score_list = [0,1,2,3,4,5,6,7,8,9,10,11]\n",
        "\n",
        "plt.plot(LR, F1_score_list, 'o:k')\n",
        "plt.xlabel(\"LR\")\n",
        "plt.ylabel(\"F1 Scores\")\n",
        "plt.show()"
      ]
    }
  ],
  "metadata": {
    "kernelspec": {
      "display_name": "tf",
      "language": "python",
      "name": "python3"
    },
    "language_info": {
      "codemirror_mode": {
        "name": "ipython",
        "version": 3
      },
      "file_extension": ".py",
      "mimetype": "text/x-python",
      "name": "python",
      "nbconvert_exporter": "python",
      "pygments_lexer": "ipython3",
      "version": "3.10.11"
    },
    "orig_nbformat": 4,
    "colab": {
      "provenance": [],
      "include_colab_link": true
    }
  },
  "nbformat": 4,
  "nbformat_minor": 0
}